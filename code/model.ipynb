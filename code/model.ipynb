{
 "cells": [
  {
   "cell_type": "code",
   "execution_count": null,
   "metadata": {},
   "outputs": [],
   "source": [
    "import pandas as pd\n",
    "import numpy as np\n",
    "import statsmodels.api as sm\n",
    "from sklearn.linear_model import LinearRegression as lr\n",
    "from sklearn.ensemble import RandomForestClassifier as rf\n",
    "from sklearn.model_selection import train_test_split\n",
    "from imblearn.combine import SMOTEENN\n",
    "from sklearn.ensemble import AdaBoostClassifier as ab\n",
    "from sklearn.tree import DecisionTreeClassifier\n",
    "from sklearn.neighbors import KNeighborsClassifier as knn"
   ]
  },
  {
   "cell_type": "code",
   "execution_count": null,
   "metadata": {},
   "outputs": [],
   "source": [
    "## Read data\n",
    "agg = pd.read_csv(\"agg.csv\")\n",
    "agg = agg[agg[\"player_survive_time\"] != 0]"
   ]
  },
  {
   "cell_type": "code",
   "execution_count": null,
   "metadata": {},
   "outputs": [],
   "source": [
    "# len(agg.match_id.drop_duplicates())\n",
    "# 729969\n",
    "sample_match = np.random.choice(agg.match_id.drop_duplicates(), size = 730)"
   ]
  },
  {
   "cell_type": "code",
   "execution_count": null,
   "metadata": {},
   "outputs": [],
   "source": [
    "## fetch samples\n",
    "agg_sample = agg[agg.match_id.isin(sample_match)]\n",
    "agg_sample.drop(columns=\"Unnamed: 0\", inplace = True)"
   ]
  },
  {
   "cell_type": "code",
   "execution_count": null,
   "metadata": {},
   "outputs": [],
   "source": [
    "## Compute average ride and walk speed\n",
    "agg_sample[\"avg_ride_speed\"] = 0\n",
    "agg_sample[\"avg_walk_speed\"] = 0\n",
    "agg_sample.iloc[: ,10] = agg_sample.iloc[:,[2, 7]].apply(lambda x: x[\"player_dist_ride\"]/x[\"player_survive_time\"], axis=1)\n",
    "agg_sample.iloc[: ,11] = agg_sample.iloc[:,[3, 7]].apply(lambda x: x[\"player_dist_walk\"]/x[\"player_survive_time\"], axis=1)"
   ]
  },
  {
   "cell_type": "code",
   "execution_count": null,
   "metadata": {},
   "outputs": [],
   "source": [
    "## Split the sample into three categories\n",
    "agg_sample_p1 = agg_sample[agg_sample[\"party_size\"] == 1]\n",
    "agg_sample_p2 = agg_sample[agg_sample[\"party_size\"] == 2]\n",
    "agg_sample_p4 = agg_sample[agg_sample[\"party_size\"] == 4]"
   ]
  },
  {
   "cell_type": "code",
   "execution_count": null,
   "metadata": {},
   "outputs": [],
   "source": [
    "## Change Y into 3 classes\n",
    "def triple(x):\n",
    "    x = int(x)\n",
    "    if x == 1:\n",
    "        return 0\n",
    "    elif x<=10:\n",
    "        return 1\n",
    "    else:\n",
    "        return 2"
   ]
  },
  {
   "cell_type": "code",
   "execution_count": null,
   "metadata": {},
   "outputs": [],
   "source": [
    "X1 = agg_sample_p1[[\"avg_ride_speed\", \"avg_walk_speed\", \"player_dmg\", \"player_kills\"]].values\n",
    "y1 = agg_sample_p1[[\"team_placement\"]]\n",
    "y1 = list(map(triple, np.array(y1)))\n",
    "## use somteenn to deal with imbalanced problem and split data into training set and testing set\n",
    "sm = SMOTEENN()\n",
    "X1_r, y1_r = sm.fit_sample(X1, y1)\n",
    "X1_train, X1_test, y1_train, y1_test = train_test_split(X1_r, y1_r, test_size=0.3, random_state=42)"
   ]
  },
  {
   "cell_type": "code",
   "execution_count": null,
   "metadata": {},
   "outputs": [],
   "source": [
    "rf_model_1 = rf(n_estimators=100, max_depth=100, criterion=\"entropy\", oob_score=True, n_jobs=-1, max_features=\"auto\").fit(X1_train,y1_train)\n",
    "print(rf_model_1.oob_score_, rf_model_1.feature_importances_)\n",
    "print(np.mean(rf_model_1.predict(X1_test) == y1_test)*100)"
   ]
  },
  {
   "cell_type": "code",
   "execution_count": null,
   "metadata": {},
   "outputs": [],
   "source": [
    "X2 = agg_sample_p2[[\"avg_ride_speed\", \"avg_walk_speed\", \"player_dmg\", \"player_kills\"]].values\n",
    "y2 = agg_sample_p2[[\"team_placement\"]]\n",
    "y2 = list(map(triple, np.array(y2)))\n",
    "## use somteenn to deal with imbalanced problem and split data into training set and testing set\n",
    "sm = SMOTEENN()\n",
    "X2_r, y2_r = sm.fit_sample(X2, y2)\n",
    "X2_train, X2_test, y2_train, y2_test = train_test_split(X2_r, y2_r, test_size=0.3, random_state=42)"
   ]
  },
  {
   "cell_type": "code",
   "execution_count": null,
   "metadata": {},
   "outputs": [],
   "source": [
    "rf_model_2 = rf(n_estimators=100, max_depth=100, criterion=\"entropy\", oob_score=True, n_jobs=-1, max_features=\"auto\").fit(X2_train,y2_train)\n",
    "print(rf_model_2.oob_score_, rf_model_2.feature_importances_)\n",
    "print(np.mean(rf_model_2.predict(X2_test) == y2_test)*100)"
   ]
  },
  {
   "cell_type": "code",
   "execution_count": null,
   "metadata": {},
   "outputs": [],
   "source": [
    "X4 = agg_sample_p4[[\"avg_ride_speed\", \"avg_walk_speed\", \"player_dmg\", \"player_kills\"]].values\n",
    "y4 = agg_sample_p4[[\"team_placement\"]]\n",
    "y4 = list(map(triple, np.array(y4)))\n",
    "## use somteenn to deal with imbalanced problem and split data into training set and testing set\n",
    "sm = SMOTEENN()\n",
    "X4_r, y4_r = sm.fit_sample(X4, y4)\n",
    "X4_train, X4_test, y4_train, y4_test = train_test_split(X4_r, y4_r, test_size=0.3, random_state=42)"
   ]
  },
  {
   "cell_type": "code",
   "execution_count": null,
   "metadata": {},
   "outputs": [],
   "source": [
    "rf_model_4 = rf(n_estimators=100, max_depth=100, criterion=\"entropy\", oob_score=True, n_jobs=-1, max_features=\"auto\").fit(X4_train,y4_train)\n",
    "print(rf_model_4.oob_score_, rf_model_4.feature_importances_)\n",
    "print(np.mean(rf_model_4.predict(X4_test) == y4_test)*100)"
   ]
  },
  {
   "cell_type": "code",
   "execution_count": null,
   "metadata": {},
   "outputs": [],
   "source": [
    "base_model1 = DecisionTreeClassifier(max_depth=10)"
   ]
  },
  {
   "cell_type": "code",
   "execution_count": null,
   "metadata": {},
   "outputs": [],
   "source": [
    "ab_model1 = ab(base_model1, n_estimators=100, learning_rate = 0.5).fit(X1_train, y1_train)\n",
    "print(np.mean((ab_model1.predict(X1_train)==y1_train)*100), ab_model1.feature_importances_)\n",
    "print(np.mean((ab_model1.predict(X1_test)==y1_test) * 100))"
   ]
  },
  {
   "cell_type": "code",
   "execution_count": null,
   "metadata": {},
   "outputs": [],
   "source": [
    "ab_model2 = ab(base_model1, n_estimators=100, learning_rate = 0.5).fit(X2_train, y2_train)\n",
    "print(np.mean((ab_model2.predict(X2_train)==y2_train)*100), ab_model2.feature_importances_)\n",
    "print(np.mean((ab_model2.predict(X2_test)==y2_test)*100))"
   ]
  },
  {
   "cell_type": "code",
   "execution_count": null,
   "metadata": {},
   "outputs": [],
   "source": [
    "ab_model4 = ab(base_model1, n_estimators=100, learning_rate = 0.5).fit(X4_train, y4_train)\n",
    "print(np.mean((ab_model4.predict(X4_train)==y4_train)*100), ab_model4.feature_importances_)\n",
    "print(np.mean((ab_model4.predict(X4_test)==y4_test)*100))"
   ]
  },
  {
   "cell_type": "code",
   "execution_count": null,
   "metadata": {},
   "outputs": [],
   "source": [
    "knn_model = knn(n_neighbors=5, algorithm=\"auto\", n_jobs=-1)"
   ]
  },
  {
   "cell_type": "code",
   "execution_count": null,
   "metadata": {},
   "outputs": [],
   "source": [
    "knn_model.fit(X1_train, y1_train)\n",
    "np.mean(knn_model.predict(X1_train) == y1_train)*100, np.mean(knn_model.predict(X1_test) == y1_test)*100"
   ]
  },
  {
   "cell_type": "code",
   "execution_count": null,
   "metadata": {},
   "outputs": [],
   "source": [
    "knn_model.fit(X2_train, y2_train)\n",
    "np.mean(knn_model.predict(X2_train) == y2_train)*100, np.mean(knn_model.predict(X2_test) == y2_test)*100"
   ]
  },
  {
   "cell_type": "code",
   "execution_count": null,
   "metadata": {},
   "outputs": [],
   "source": [
    "knn_model.fit(X4_train, y4_train)\n",
    "np.mean(knn_model.predict(X4_train) == y4_train)*100, np.mean(knn_model.predict(X4_test) == y4_test)*100"
   ]
  },
  {
   "cell_type": "code",
   "execution_count": null,
   "metadata": {},
   "outputs": [],
   "source": [
    "from sklearn.linear_model import LogisticRegression as logr"
   ]
  },
  {
   "cell_type": "code",
   "execution_count": null,
   "metadata": {},
   "outputs": [],
   "source": [
    "logr_model1 = logr().fit(X1_train, y1_train)\n",
    "np.mean(logr_model1.predict(X1_train) == y1_train)*100, np.mean(logr_model1.predict(X1_test) == y1_test)*100"
   ]
  },
  {
   "cell_type": "code",
   "execution_count": null,
   "metadata": {},
   "outputs": [],
   "source": [
    "logr_model2 = logr().fit(X2_train, y2_train)\n",
    "np.mean(logr_model2.predict(X2_train) == y2_train)*100, np.mean(logr_model2.predict(X2_test) == y2_test)*100"
   ]
  },
  {
   "cell_type": "code",
   "execution_count": null,
   "metadata": {},
   "outputs": [],
   "source": [
    "logr_model4 = logr().fit(X4_train, y4_train)\n",
    "np.mean(logr_model4.predict(X4_train) == y4_train)*100, np.mean(logr_model4.predict(X4_test) == y4_test)*100"
   ]
  },
  {
   "cell_type": "code",
   "execution_count": null,
   "metadata": {},
   "outputs": [],
   "source": [
    "import matplotlib \n",
    "import matplotlib.pyplot as plt\n",
    "import seaborn as sns"
   ]
  },
  {
   "cell_type": "code",
   "execution_count": null,
   "metadata": {},
   "outputs": [],
   "source": [
    "df_p1 = pd.DataFrame({\"rank\":y1_r, \"avg_ride_speed\":X1_r[:,0], \"avg_walk_speed\":X1_r[:,1], \"player_dmg\":X1_r[:,2],\n",
    "                      \"player_kills\":X1_r[:,3]})\n",
    "df_p2 = pd.DataFrame({\"rank\":y2_r, \"avg_ride_speed\":X2_r[:,0], \"avg_walk_speed\":X2_r[:,1], \"player_dmg\":X2_r[:,2],\n",
    "                      \"player_kills\":X2_r[:,3]})\n",
    "df_p4 = pd.DataFrame({\"rank\":y4_r, \"avg_ride_speed\":X4_r[:,0], \"avg_walk_speed\":X4_r[:,1], \"player_dmg\":X4_r[:,2],\n",
    "                      \"player_kills\":X4_r[:,3]})"
   ]
  },
  {
   "cell_type": "code",
   "execution_count": null,
   "metadata": {},
   "outputs": [],
   "source": [
    "def plots(df, party_size):\n",
    "    fig, axes = plt.subplots(2,2,figsize=(12,8), dpi=120, sharex=True)\n",
    "    sns.boxplot(x=\"rank\", y = \"player_kills\", data = df, ax=axes[0,0]) \n",
    "   \n",
    "    axes[0,0].set_title('Boxplot of rank vs player kills (party size %s games)' %party_size, fontdict={'size':8})\n",
    "    \n",
    "    sns.boxplot(x=\"rank\", y = \"player_dmg\", data = df, ax=axes[0,1]) \n",
    "    axes[0,1].set_title('Boxplot of rank vs player damage (party size %s games)' %party_size, fontdict={'size':8})\n",
    "    \n",
    "    sns.boxplot(x=\"rank\", y = \"avg_walk_speed\", data = df, ax=axes[1,0]) \n",
    "    axes[1,0].set_title('Boxplot of rank vs player average walk speed (party size %s games)' %party_size, fontdict={'size':8})\n",
    "    \n",
    "    sns.boxplot(x=\"rank\", y = \"avg_ride_speed\", data = df, ax=axes[1,1]) \n",
    "    axes[1,1].set_title('Boxplot of rank vs player average ride speed (party size %s games)' %party_size, fontdict={'size':8})\n",
    "    axes[1,1].set_xticklabels([\"1st\", \"2nd-10th\", \"11st-\"])\n",
    "    \n",
    "    #fig.subplots_adjust(left=-0.1, bottom=-0.5)\n",
    "    fig.savefig(\"../agg_plot/p%s.png\" %party_size)  "
   ]
  },
  {
   "cell_type": "code",
   "execution_count": null,
   "metadata": {
    "scrolled": true
   },
   "outputs": [],
   "source": [
    "plots(df_p1, 1)"
   ]
  },
  {
   "cell_type": "code",
   "execution_count": null,
   "metadata": {
    "scrolled": true
   },
   "outputs": [],
   "source": [
    "plots(df_p2, 2)"
   ]
  },
  {
   "cell_type": "code",
   "execution_count": null,
   "metadata": {
    "scrolled": true
   },
   "outputs": [],
   "source": [
    "df_p2_nc = df_p2[(df_p2[\"avg_walk_speed\"] < 10) & (df_p2[\"avg_ride_speed\"] <40)]\n",
    "plots(df_p2_nc, 2)"
   ]
  },
  {
   "cell_type": "code",
   "execution_count": null,
   "metadata": {
    "scrolled": true
   },
   "outputs": [],
   "source": [
    "plots(df_p4, 4)"
   ]
  },
  {
   "cell_type": "code",
   "execution_count": null,
   "metadata": {
    "scrolled": true
   },
   "outputs": [],
   "source": [
    "df_p4_nc = df_p4[(df_p4[\"avg_walk_speed\"] < 10) & (df_p4[\"avg_ride_speed\"] <40)]\n",
    "plots(df_p4_nc, 4)"
   ]
  },
  {
   "cell_type": "code",
   "execution_count": null,
   "metadata": {},
   "outputs": [],
   "source": []
  }
 ],
 "metadata": {
  "kernelspec": {
   "display_name": "Python 3",
   "language": "python",
   "name": "python3"
  },
  "language_info": {
   "codemirror_mode": {
    "name": "ipython",
    "version": 3
   },
   "file_extension": ".py",
   "mimetype": "text/x-python",
   "name": "python",
   "nbconvert_exporter": "python",
   "pygments_lexer": "ipython3",
   "version": "3.7.3"
  }
 },
 "nbformat": 4,
 "nbformat_minor": 2
}
